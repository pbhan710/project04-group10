{
 "cells": [
  {
   "cell_type": "markdown",
   "id": "47c12c88",
   "metadata": {},
   "source": [
    "# Goal\n",
    "This will train multiple supervised models (i.e., numerical prediction models) used to predict monthly inventory by state and determine which model fits best."
   ]
  },
  {
   "cell_type": "markdown",
   "id": "7f579754",
   "metadata": {},
   "source": [
    "# 0) Setup"
   ]
  },
  {
   "cell_type": "code",
   "execution_count": null,
   "id": "b62cbf99",
   "metadata": {},
   "outputs": [],
   "source": [
    "# Import dependencies.\n",
    "from sklearn.model_selection import train_test_split\n",
    "from sklearn.preprocessing import StandardScaler\n",
    "import pandas as pd\n",
    "import tensorflow as tf\n",
    "import keras\n",
    "import clf\\n\n",
    "from sqlalchemy import create_engine\\n\n",
    "import matplotlib as plt"
   ]
  },
  {
   "cell_type": "markdown",
   "id": "f3356999",
   "metadata": {},
   "source": [
    "# 1) Connect to / Load in SQL Table"
   ]
  },
  {
   "cell_type": "code",
   "execution_count": null,
   "id": "a00c5b8a",
   "metadata": {},
   "outputs": [],
   "source": [
    "raw_df = pd.read_csv(\"Resources/.csv\")"
   ]
  },
  {
   "cell_type": "markdown",
   "id": "72379751",
   "metadata": {},
   "source": [
    "# 2) Preprocess Data"
   ]
  },
  {
   "cell_type": "code",
   "execution_count": null,
   "id": "c47f89f6",
   "metadata": {},
   "outputs": [],
   "source": [
    "X = df.drop('Target', axis=1)\n",
    "X"
   ]
  },
  {
   "cell_type": "code",
   "execution_count": null,
   "id": "081122f2",
   "metadata": {},
   "outputs": [],
   "source": [
    "pd.get_dummies(X['season'])"
   ]
  },
  {
   "cell_type": "code",
   "execution_count": null,
   "id": "2d07ff60",
   "metadata": {},
   "outputs": [],
   "source": [
    "X_dummies = pd.get_dummies(X)\n",
    "print(X_dummies.columns)\n",
    "X_dummies"
   ]
  },
  {
   "cell_type": "code",
   "execution_count": null,
   "id": "3dde4e9a",
   "metadata": {},
   "outputs": [],
   "source": [
    "y_label = LabelEncoder().fit_transform(df['Target'])\n",
    "y_label"
   ]
  },
  {
   "cell_type": "markdown",
   "id": "53bc6eb3",
   "metadata": {},
   "source": [
    "# 3) Split into Train/Test"
   ]
  },
  {
   "cell_type": "code",
   "execution_count": null,
   "id": "b73f5225",
   "metadata": {},
   "outputs": [],
   "source": [
    "from sklearn.model_selection import train_test_split\n",
    "\n",
    "X_train, X_test, y_train, y_test = train_test_split(X, y, random_state=1)"
   ]
  },
  {
   "cell_type": "code",
   "execution_count": null,
   "id": "c588b52d",
   "metadata": {},
   "outputs": [],
   "source": [
    "# Scaling the Data\n",
    "scaler = StandardScaler().fit(X_train)\n",
    "X_train_scaled = scaler.transform(X_train)\n",
    "X_test_scaled = scaler.transform(X_test)"
   ]
  },
  {
   "cell_type": "markdown",
   "id": "edce25ae",
   "metadata": {},
   "source": [
    "# 4) Apply Different Models and Hyperparameterize, and Compare Results\n",
    "Models to train/test:\n",
    "- Random forest\n",
    "- Logistic regression\n",
    "- Neural networks\n",
    "\n",
    "Consider the following questions:\n",
    "- What pros/cons are important to consider for each model?\n",
    "- Which score(s) make sense for our scenario? Is accuracy the most important score for our model? In other words, should precision, etc. take precedence over other scores to determine the best model?\n",
    "\n",
    "False Positive: The model predicts a \"hot\" market (i.e., an increase in inventory), but in reality, it was not hot. This would negatively impact the buyer in facing stiffer competition due to lower inventory, thus potentially paying more for a home than expected or not being able to purchase a home at all.\n",
    "\n",
    "False Negative: The model predicts a \"not hot\" market (i.e., a decrease in inventory), but in reality, it was hot. This may negatively impact the buyer in missing out altogether on a housing market with higher inventory."
   ]
  },
  {
   "cell_type": "markdown",
   "id": "d52698c3",
   "metadata": {},
   "source": [
    "## Random Forest Model"
   ]
  },
  {
   "cell_type": "code",
   "execution_count": null,
   "id": "feebca2c",
   "metadata": {},
   "outputs": [],
   "source": [
    "clf = RandomForestClassifier(random_state=1, n_estimators=500).fit(X_train_scaled, y_train)\n",
    "    \"print(f'Training Score: {clf.score(X_train_scaled, y_train)}')\",\n",
    "    \"print(f'Testing Score: {clf.score(X_test_scaled, y_test)}')\""
   ]
  },
  {
   "cell_type": "markdown",
   "id": "ca1df687",
   "metadata": {},
   "source": [
    "## Logistic Regression Model"
   ]
  },
  {
   "cell_type": "code",
   "execution_count": null,
   "id": "364e5c90",
   "metadata": {},
   "outputs": [],
   "source": [
    "from sklearn.linear_model import LogisticRegression\n",
    "classifier = LogisticRegression()\n",
    "classifier"
   ]
  },
  {
   "cell_type": "code",
   "execution_count": null,
   "id": "76de074d",
   "metadata": {},
   "outputs": [],
   "source": [
    "classifier.fit(X_train, y_train)"
   ]
  },
  {
   "cell_type": "code",
   "execution_count": null,
   "id": "b3fbe67f",
   "metadata": {},
   "outputs": [],
   "source": [
    "print(f\"Training Data Score: {classifier.score(X_train, y_train)}\")\n",
    "print(f\"Testing Data Score: {classifier.score(X_test, y_test)}\")"
   ]
  },
  {
   "cell_type": "markdown",
   "id": "35f07b38",
   "metadata": {},
   "source": [
    "MAKE PREDICTIONS?"
   ]
  },
  {
   "cell_type": "code",
   "execution_count": null,
   "id": "1bc814de",
   "metadata": {},
   "outputs": [],
   "source": [
    "# Generate a new data point (the red circle)\n",
    "import numpy as np\n",
    "import matplotlib.pyplot as plt\n",
    "new_data = np.array([[-2, 6]])\n",
    "plt.scatter(X[:, 0], X[:, 1], c=y)\n",
    "plt.scatter(new_data[0, 0], new_data[0, 1], c=\"r\", marker=\"o\", s=100)"
   ]
  },
  {
   "cell_type": "code",
   "execution_count": null,
   "id": "50a79dce",
   "metadata": {},
   "outputs": [],
   "source": [
    "# Predict the class (purple or yellow) of the new data point\n",
    "predictions = classifier.predict(new_data)\n",
    "print(\"Classes are either 0 (purple) or 1 (yellow)\")\n",
    "print(f\"The new point was classified as: {predictions}\")"
   ]
  },
  {
   "cell_type": "code",
   "execution_count": null,
   "id": "c23349fb",
   "metadata": {},
   "outputs": [],
   "source": [
    "predictions = classifier.predict(X_test)\n",
    "pd.DataFrame({\"Prediction\": predictions, \"Actual\": y_test})"
   ]
  },
  {
   "cell_type": "markdown",
   "id": "f6bfe5da",
   "metadata": {},
   "source": [
    "## Neural Networks Model"
   ]
  },
  {
   "cell_type": "code",
   "execution_count": null,
   "id": "d2d2460f",
   "metadata": {},
   "outputs": [],
   "source": [
    "# Create scaler instance\n",
    "X_scaler = skl.preprocessing.StandardScaler(),\n",
    "\n",
    "# Fit the scaler\n",
    "X_scaler.fit(X_train)"
   ]
  },
  {
   "cell_type": "code",
   "execution_count": null,
   "id": "a5c0fe59",
   "metadata": {},
   "outputs": [],
   "source": [
    "nn_model = tf.keras.models.Sequential()\n",
    "\n",
    "nn_model.add(tf.keras.layers.Dense(units=5, activation=\"relu\", input_dim=2))\n",
    "\n",
    "nn_model.add(tf.keras.layers.Dense(units=1, activation=\"sigmoid\"))\n",
    "\n",
    "nn_model.summary()"
   ]
  },
  {
   "cell_type": "code",
   "execution_count": null,
   "id": "ad60da31",
   "metadata": {},
   "outputs": [],
   "source": [
    "nn_model.compile(loss=\"binary_crossentropy\", optimizer=\"adam\", metrics=[\"accuracy\"])"
   ]
  },
  {
   "cell_type": "code",
   "execution_count": null,
   "id": "9811ddf4",
   "metadata": {},
   "outputs": [],
   "source": [
    "fit_model = nn_model.fit(X_train_scaled, y_train, epochs=100)"
   ]
  },
  {
   "cell_type": "code",
   "execution_count": null,
   "id": "2714172e",
   "metadata": {},
   "outputs": [],
   "source": [
    "# Get best model hyperparameters\n",
    "best_hyper = tuner.get_best_hyperparameters(1)[0],\n",
    "best_hyper.values"
   ]
  },
  {
   "cell_type": "code",
   "execution_count": null,
   "id": "0657bea2",
   "metadata": {},
   "outputs": [],
   "source": [
    "# Evaluate best model against full test data\n",
    "best_model = tuner.get_best_models(1)[0]\n",
    "model_loss, model_accuracy = best_model.evaluate(X_test_scaled,y_test,verbose=2)\n",
    "print(f\"Loss: {model_loss}, Accuracy: {model_accuracy}\")"
   ]
  },
  {
   "cell_type": "markdown",
   "id": "1fda245f",
   "metadata": {},
   "source": [
    "# 5) Determine Best Model to Utilize\n",
    "Contextualize why."
   ]
  },
  {
   "cell_type": "markdown",
   "id": "a004ed9f",
   "metadata": {},
   "source": []
  },
  {
   "cell_type": "markdown",
   "id": "2c6e503a",
   "metadata": {},
   "source": [
    "# 6) Visualize Results\n",
    "- Feature importances\n",
    "- Original hotness feature versus prediction on hotness\n",
    "- Comparison between temperature / unemployment rates / seasons versus hotness"
   ]
  },
  {
   "cell_type": "code",
   "execution_count": null,
   "id": "26bbb0b4",
   "metadata": {},
   "outputs": [],
   "source": []
  }
 ],
 "metadata": {
  "kernelspec": {
   "display_name": "Python 3 (ipykernel)",
   "language": "python",
   "name": "python3"
  },
  "language_info": {
   "codemirror_mode": {
    "name": "ipython",
    "version": 3
   },
   "file_extension": ".py",
   "mimetype": "text/x-python",
   "name": "python",
   "nbconvert_exporter": "python",
   "pygments_lexer": "ipython3",
   "version": "3.9.12"
  }
 },
 "nbformat": 4,
 "nbformat_minor": 5
}
