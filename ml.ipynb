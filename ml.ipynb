{
 "cells": [
  {
   "cell_type": "markdown",
   "id": "34798cb3",
   "metadata": {},
   "source": [
    "# Goal\n",
    "This will train multiple supervised models (i.e., numerical prediction models) used to predict monthly inventory by state and determine which model fits best."
   ]
  },
  {
   "cell_type": "markdown",
   "id": "823e666a",
   "metadata": {},
   "source": [
    "# 0) Setup"
   ]
  },
  {
   "cell_type": "code",
   "execution_count": null,
   "id": "ad1412e8",
   "metadata": {},
   "outputs": [],
   "source": [
    "# Import dependencies."
   ]
  },
  {
   "cell_type": "markdown",
   "id": "15a7a73d",
   "metadata": {},
   "source": [
    "# 1) Connect to / Load in SQL Table"
   ]
  },
  {
   "cell_type": "code",
   "execution_count": null,
   "id": "debda891",
   "metadata": {},
   "outputs": [],
   "source": []
  },
  {
   "cell_type": "markdown",
   "id": "e30eea40",
   "metadata": {},
   "source": [
    "# 2) Split into Train/Test"
   ]
  },
  {
   "cell_type": "code",
   "execution_count": null,
   "id": "50c7952e",
   "metadata": {},
   "outputs": [],
   "source": []
  },
  {
   "cell_type": "markdown",
   "id": "9586d5b1",
   "metadata": {},
   "source": [
    "# 3) Apply Different Models and Hyperparameterize, and Compare Results\n",
    "Models to train/test:\n",
    "- Linear regression\n",
    "- Random forest\n",
    "- Lasso\n",
    "- SVM\n",
    "\n",
    "Consider the following questions:\n",
    "- What pros/cons are important to consider for each model?\n",
    "- Which score(s) make sense for our scenario? Is accuracy the most important score for our model? In other words, should precision, etc. take precedence over other scores to determine the best model?"
   ]
  },
  {
   "cell_type": "code",
   "execution_count": null,
   "id": "d1c272f6",
   "metadata": {},
   "outputs": [],
   "source": []
  },
  {
   "cell_type": "markdown",
   "id": "270b88a6",
   "metadata": {},
   "source": [
    "# 4) Determine Best Model to Utilize\n",
    "Contextualize why."
   ]
  },
  {
   "cell_type": "markdown",
   "id": "d0e46504",
   "metadata": {},
   "source": []
  },
  {
   "cell_type": "markdown",
   "id": "e6a5c824",
   "metadata": {},
   "source": [
    "# 5) Deploy Model "
   ]
  },
  {
   "cell_type": "code",
   "execution_count": null,
   "id": "56dcf003",
   "metadata": {},
   "outputs": [],
   "source": []
  }
 ],
 "metadata": {
  "kernelspec": {
   "display_name": "mlenv",
   "language": "python",
   "name": "mlenv"
  },
  "language_info": {
   "codemirror_mode": {
    "name": "ipython",
    "version": 3
   },
   "file_extension": ".py",
   "mimetype": "text/x-python",
   "name": "python",
   "nbconvert_exporter": "python",
   "pygments_lexer": "ipython3",
   "version": "3.7.16"
  }
 },
 "nbformat": 4,
 "nbformat_minor": 5
}
