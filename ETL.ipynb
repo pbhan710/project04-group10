{
 "cells": [
  {
   "cell_type": "markdown",
   "id": "37e36a77",
   "metadata": {},
   "source": [
    "# Goal\n",
    "This script will transform raw target data (i.e., monthly inventory by city) and associated features into one DataFrame to be utilized for machine learning."
   ]
  },
  {
   "cell_type": "markdown",
   "id": "82f242d1",
   "metadata": {},
   "source": [
    "## 0) Setup"
   ]
  },
  {
   "cell_type": "code",
   "execution_count": null,
   "id": "3c75fb4e",
   "metadata": {},
   "outputs": [],
   "source": [
    "# Import dependencies\n",
    "import pandas as pd"
   ]
  },
  {
   "cell_type": "markdown",
   "id": "9f949461",
   "metadata": {},
   "source": [
    "## 1) Pull Target CSV (Inventory Data)"
   ]
  },
  {
   "cell_type": "code",
   "execution_count": 1,
   "id": "abc2a361",
   "metadata": {},
   "outputs": [],
   "source": [
    "# Load in raw inventory CSV."
   ]
  },
  {
   "cell_type": "code",
   "execution_count": null,
   "id": "2cbe49ba",
   "metadata": {},
   "outputs": [],
   "source": [
    "# Unpivot by state, date, and inventory."
   ]
  },
  {
   "cell_type": "code",
   "execution_count": null,
   "id": "aa798cf9",
   "metadata": {},
   "outputs": [],
   "source": [
    "# Clean up (e.g., remove rows that do not have inventory data)."
   ]
  },
  {
   "cell_type": "markdown",
   "id": "5cc25dc3",
   "metadata": {},
   "source": [
    "## 2) Pull Features from CSVs\n",
    "Perform the following for each CSV:\n",
    "- Load in raw CSV.\n",
    "- Unpivot to match the DataFrame made from Section 1.\n",
    "- Clean up data.\n",
    "- Aggregate data by month and state, if necessary.\n",
    "- Join to DataFrame by month and state."
   ]
  },
  {
   "cell_type": "code",
   "execution_count": null,
   "id": "f6c57b6a",
   "metadata": {},
   "outputs": [],
   "source": []
  },
  {
   "cell_type": "markdown",
   "id": "f59b84eb",
   "metadata": {},
   "source": [
    "## 3) Clean Up Final DataFrame\n",
    "- Remove rows where there are any empty features (?).\n",
    "- Check datatypes and cast to proper datatype (i.e., one that makes sense and one that matches the SQL table)."
   ]
  },
  {
   "cell_type": "code",
   "execution_count": null,
   "id": "f5c691db",
   "metadata": {},
   "outputs": [],
   "source": []
  },
  {
   "cell_type": "markdown",
   "id": "a5e029b1",
   "metadata": {},
   "source": [
    "## 4) Load to SQL Database\n",
    "Before this, set up new database & table in Postgres."
   ]
  },
  {
   "cell_type": "code",
   "execution_count": null,
   "id": "b8a80985",
   "metadata": {},
   "outputs": [],
   "source": []
  }
 ],
 "metadata": {
  "kernelspec": {
   "display_name": "mlenv",
   "language": "python",
   "name": "mlenv"
  },
  "language_info": {
   "codemirror_mode": {
    "name": "ipython",
    "version": 3
   },
   "file_extension": ".py",
   "mimetype": "text/x-python",
   "name": "python",
   "nbconvert_exporter": "python",
   "pygments_lexer": "ipython3",
   "version": "3.7.16"
  }
 },
 "nbformat": 4,
 "nbformat_minor": 5
}
