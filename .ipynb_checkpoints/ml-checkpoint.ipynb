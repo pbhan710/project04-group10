{
 "cells": [
  {
   "cell_type": "markdown",
   "id": "a925e764",
   "metadata": {},
   "source": [
    "# Goal\n",
    "This will train multiple supervised models (i.e., numerical prediction models) used to predict monthly inventory by state and determine which model fits best."
   ]
  },
  {
   "cell_type": "markdown",
   "id": "fba09b9b",
   "metadata": {},
   "source": [
    "# 0) Setup"
   ]
  },
  {
   "cell_type": "code",
   "execution_count": null,
   "id": "5e8f8688",
   "metadata": {},
   "outputs": [],
   "source": [
    "# Import dependencies."
   ]
  },
  {
   "cell_type": "markdown",
   "id": "8dddb2c4",
   "metadata": {},
   "source": [
    "# 1) Connect to / Load in SQL Table"
   ]
  },
  {
   "cell_type": "code",
   "execution_count": null,
   "id": "b616321b",
   "metadata": {},
   "outputs": [],
   "source": []
  },
  {
   "cell_type": "markdown",
   "id": "3016bc9b",
   "metadata": {},
   "source": [
    "# 2) Split into Train/Test"
   ]
  },
  {
   "cell_type": "code",
   "execution_count": null,
   "id": "af45824a",
   "metadata": {},
   "outputs": [],
   "source": []
  },
  {
   "cell_type": "markdown",
   "id": "77099f02",
   "metadata": {},
   "source": [
    "# 3) Apply Different Models and Hyperparameterize, and Compare Results\n",
    "Models to consider:\n",
    "- Linear regression\n",
    "- Random forest\n",
    "- Lasso\n",
    "- SVM\n",
    "\n",
    "Consider the following questions:\n",
    "- What pros/cons are important to consider for each model?\n",
    "- Which score(s) make sense for our scenario? Is accuracy the most important score for our model? In other words, should precision, etc. take precedence over other scores to determine the best model?"
   ]
  },
  {
   "cell_type": "code",
   "execution_count": null,
   "id": "99c0254b",
   "metadata": {},
   "outputs": [],
   "source": []
  },
  {
   "cell_type": "markdown",
   "id": "b7ce6dcc",
   "metadata": {},
   "source": [
    "# 4) Determine Best Model to Utilize\n",
    "Contextualize why."
   ]
  },
  {
   "cell_type": "markdown",
   "id": "3f56446c",
   "metadata": {},
   "source": []
  },
  {
   "cell_type": "markdown",
   "id": "3aada005",
   "metadata": {},
   "source": [
    "# 5) Deploy Model "
   ]
  },
  {
   "cell_type": "code",
   "execution_count": null,
   "id": "c0492187",
   "metadata": {},
   "outputs": [],
   "source": []
  }
 ],
 "metadata": {
  "kernelspec": {
   "display_name": "mlenv",
   "language": "python",
   "name": "mlenv"
  },
  "language_info": {
   "codemirror_mode": {
    "name": "ipython",
    "version": 3
   },
   "file_extension": ".py",
   "mimetype": "text/x-python",
   "name": "python",
   "nbconvert_exporter": "python",
   "pygments_lexer": "ipython3",
   "version": "3.7.16"
  }
 },
 "nbformat": 4,
 "nbformat_minor": 5
}
